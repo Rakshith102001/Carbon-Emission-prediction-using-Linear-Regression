{
 "cells": [
  {
   "cell_type": "code",
   "execution_count": null,
   "id": "d1cedd96",
   "metadata": {},
   "outputs": [],
   "source": [
    "import pandas as pd\n",
    "import matplotlib.pyplot as plt\n",
    "from sklearn.model_selection import train_test_split\n",
    "import seaborn as sns\n",
    "from sklearn import metrics\n",
    "from scipy.stats import pearsonr\n",
    "df=pd.read_csv(\"OneDrive\\Desktop/dataset2.csv\")\n",
    "df.head(10)"
   ]
  },
  {
   "cell_type": "code",
   "execution_count": null,
   "id": "80b07477",
   "metadata": {},
   "outputs": [],
   "source": [
    "df.isnull().sum()\n",
    "df.describe()"
   ]
  },
  {
   "cell_type": "code",
   "execution_count": null,
   "id": "ad6c39c9",
   "metadata": {},
   "outputs": [],
   "source": [
    "x=df['ENGINESIZE'];y=df['CO2EMISSIONS']"
   ]
  },
  {
   "cell_type": "code",
   "execution_count": null,
   "id": "3d024b94",
   "metadata": {},
   "outputs": [],
   "source": [
    "plt.scatter(x,y)\n",
    "plt.xlabel('Engine Size')\n",
    "plt.ylabel('Carbon Emission')\n",
    "plt.show()\n",
    "corr, _ = pearsonr(x, y)\n",
    "print('Pearsons correlation: %.3f' % corr)"
   ]
  },
  {
   "cell_type": "code",
   "execution_count": null,
   "id": "520f5ea9",
   "metadata": {},
   "outputs": [],
   "source": [
    "def estimate_coef(x, y):\n",
    "    t1=t2=0\n",
    "    mx=(sum(x)/len(x))\n",
    "    my=(sum(y)/len(y))\n",
    "    for i in range(len(x)):\n",
    "        t1+= (x[i]-mx)*(y[i]-my)\n",
    "        t2+= (x[i]-mx)**2\n",
    "        w1=t1/t2\n",
    "        '''if any([t1,t2])==0:\n",
    "            w1=0.0\n",
    "        else:\n",
    "            w1=t1/t2'''\n",
    "        w0=my-w1*mx\n",
    "\n",
    "    return (w0, w1)"
   ]
  },
  {
   "cell_type": "code",
   "execution_count": null,
   "id": "bee13609",
   "metadata": {},
   "outputs": [],
   "source": [
    "def plot_regression_line(X,y, w):\n",
    "    \n",
    "    pred=[]\n",
    "    for x in X:\n",
    "        y1=w[0]+w[1]*x\n",
    "        pred.append(y1)\n",
    "    \n",
    "\n",
    "    #Plotting Regression Line\n",
    "    plt.scatter(X,y, color=\"blue\")\n",
    "    plt.plot(X,pred, color='red')\n",
    "    plt.xlabel('Engine Size')\n",
    "    plt.ylabel('Carbon Emission')\n",
    "    plt.title('LINEAR REGRESSION PLOT')\n",
    "    plt.show()  \n",
    "    mabe= round(metrics.median_absolute_error(y,pred), 8)\n",
    "    mse= round(metrics.mean_squared_error(y,pred), 8)\n",
    "    mae= round(metrics.mean_absolute_error(y,pred), 8)\n",
    "    r2= round(metrics.r2_score(y,pred)*100, 2)\n",
    "    r2= str(r2)+'%'\n",
    "    return pd.DataFrame(data=[['Accuracy',r2],['Mean Absolute Error',mae],['Mean Squared Error',mse],['Median Absolute Error',mabe]],\n",
    "                        columns=['Metrics','Values'])"
   ]
  },
  {
   "cell_type": "code",
   "execution_count": null,
   "id": "aa90504c",
   "metadata": {},
   "outputs": [],
   "source": [
    "\n",
    "X_train, X_test, y_train, y_test = train_test_split(x, y, test_size=0.20,random_state=2)\n",
    "print('Train set size: ',len(X_train),'\\nTest set size',len(X_test))\n",
    "\n",
    "\n",
    "w = estimate_coef(list(X_train), list(y_train))\n",
    "print(\"Estimated coefficients:\\nW0 = {} \\\n",
    "\\nW1 = {}\".format(w[0], w[1]))\n",
    "\n",
    "d=plot_regression_line(X_test, y_test, w)\n",
    "d"
   ]
  }
 ],
 "metadata": {
  "kernelspec": {
   "display_name": "Python 3 (ipykernel)",
   "language": "python",
   "name": "python3"
  },
  "language_info": {
   "codemirror_mode": {
    "name": "ipython",
    "version": 3
   },
   "file_extension": ".py",
   "mimetype": "text/x-python",
   "name": "python",
   "nbconvert_exporter": "python",
   "pygments_lexer": "ipython3",
   "version": "3.9.13"
  }
 },
 "nbformat": 4,
 "nbformat_minor": 5
}
